{
 "cells": [
  {
   "cell_type": "code",
   "execution_count": 2,
   "id": "ff5c928c",
   "metadata": {},
   "outputs": [],
   "source": [
    "import matplotlib\n",
    "import matplotlib.pylab as plt\n",
    "import glob\n",
    "import numpy\n",
    "import math\n",
    "from joblib import Parallel, delayed\n",
    "\n",
    "# Configuration\n",
    "RUN_ID = \"1\"\n",
    "RUNNING_TIME = 20"
   ]
  },
  {
   "cell_type": "code",
   "execution_count": 3,
   "id": "4089dd11",
   "metadata": {},
   "outputs": [],
   "source": [
    "def res_dir(rid):\n",
    "    return \"results/\" + rid"
   ]
  },
  {
   "cell_type": "code",
   "execution_count": 4,
   "id": "9d941ca9",
   "metadata": {},
   "outputs": [],
   "source": [
    "def process_log(filename):\n",
    "    print(\"Processing\", filename)\n",
    "\n",
    "    publications = {}\n",
    "    latencies = {}\n",
    "    max_time = 0\n",
    "    sync_pack = 0\n",
    "    sync_byte = 0\n",
    "    \n",
    "    with open(filename, 'r') as f:\n",
    "        for line in f:\n",
    "            if line.startswith('SYNC_'):\n",
    "                val = int(line.split('=')[1])\n",
    "                if line.startswith('SYNC_PACK'):\n",
    "                    sync_pack = val\n",
    "                if line.startswith('SYNC_BYTE'):\n",
    "                    sync_byte = val\n",
    "                    \n",
    "                continue\n",
    "            \n",
    "            line = [x.strip() for x in line.split(',')]\n",
    "            \n",
    "            time = float(line[0])\n",
    "            node = line[1]\n",
    "            mtype = line[2]\n",
    "            mid = line[3]\n",
    "            \n",
    "            if mtype == 'PUB':\n",
    "                publications[mid] = time\n",
    "            \n",
    "            if mtype == 'RECV':\n",
    "                if mid not in latencies:\n",
    "                    latencies[mid] = []\n",
    "                latencies[mid].append(time - publications[mid])\n",
    "                \n",
    "            max_time = max(max_time, time)\n",
    "    \n",
    "    return latencies, max_time, sync_pack, sync_byte"
   ]
  },
  {
   "cell_type": "code",
   "execution_count": 5,
   "id": "8857e6c1",
   "metadata": {},
   "outputs": [
    {
     "name": "stdout",
     "output_type": "stream",
     "text": [
      "['exp_log_files_josh\\\\FULL_Method-6node-1000_MS_INTER_SLOW-100_MS_INTER_FAST-0_Nodes_Pub_Fast-0_RECENT_PUB-99999_RANDOM_PUB-10_S_STOP-0_DROP_RATE-4_MTU.log']\n",
      "Processing exp_log_files_josh\\FULL_Method-6node-1000_MS_INTER_SLOW-100_MS_INTER_FAST-0_Nodes_Pub_Fast-0_RECENT_PUB-99999_RANDOM_PUB-10_S_STOP-0_DROP_RATE-4_MTU.log\n"
     ]
    },
    {
     "data": {
      "text/plain": [
       "13284"
      ]
     },
     "execution_count": 5,
     "metadata": {},
     "output_type": "execute_result"
    }
   ],
   "source": [
    "#new log format\n",
    "method = 'FULL'\n",
    "grid = '4'\n",
    "loss = '0'\n",
    "topology = '6node'\n",
    "logfiles = glob.glob(\"exp_log_files_josh/\" +\n",
    "                         method + \"_Method-\" +\n",
    "                         topology + '-' +\n",
    "                         \"1000_MS_INTER_SLOW-100_MS_INTER_FAST-\"+\n",
    "                         \"*_Nodes_Pub_Fast-\"+\n",
    "                         \"*_RECENT_PUB-\" +\n",
    "                         \"*_RANDOM_PUB-10_S_STOP-\" +\n",
    "                         loss + \"_DROP_RATE*.log\")\n",
    "print(logfiles)\n",
    "testOut = process_log(logfiles[0])\n",
    "\n",
    "logHandler = open(\"processed_log.txt\", \"w\")\n",
    "logHandler.write(str(testOut))"
   ]
  },
  {
   "cell_type": "code",
   "execution_count": 14,
   "id": "d906302c",
   "metadata": {},
   "outputs": [
    {
     "name": "stdout",
     "output_type": "stream",
     "text": [
      "['exp_log_files_josh\\\\FULL_Method-4_Row-4_Col-1000_MS_INTER_SLOW-100_MS_INTER_FAST-0_Nodes_Pub_Fast-0_RECENT_PUB-99999_RANDOM_PUB-10_S_STOP-0_DROP_RATE-4_MTU.log']\n",
      "Processing exp_log_files_josh\\FULL_Method-4_Row-4_Col-1000_MS_INTER_SLOW-100_MS_INTER_FAST-0_Nodes_Pub_Fast-0_RECENT_PUB-99999_RANDOM_PUB-10_S_STOP-0_DROP_RATE-4_MTU.log\n"
     ]
    },
    {
     "data": {
      "text/plain": [
       "13931"
      ]
     },
     "execution_count": 14,
     "metadata": {},
     "output_type": "execute_result"
    }
   ],
   "source": [
    "#original log format\n",
    "method = 'FULL'\n",
    "grid = '4'\n",
    "loss = '0'\n",
    "logfiles = glob.glob(\"exp_log_files_josh/\" +\n",
    "                         method + \"_Method-\" +\n",
    "                         grid + \"_Row-\" +\n",
    "                         grid + \"_Col-\"+\n",
    "                         \"1000_MS_INTER_SLOW-100_MS_INTER_FAST-\"+\n",
    "                         \"*_Nodes_Pub_Fast-\"+\n",
    "                         \"*_RECENT_PUB-\" +\n",
    "                         \"*_RANDOM_PUB-10_S_STOP-\" +\n",
    "                         loss + \"_DROP_RATE*.log\")\n",
    "print(logfiles)\n",
    "testOut = process_log(logfiles[0])\n",
    "\n",
    "logHandler = open(\"processed_log.txt\", \"w\")\n",
    "logHandler.write(str(testOut))"
   ]
  },
  {
   "cell_type": "code",
   "execution_count": 19,
   "id": "94a76060",
   "metadata": {},
   "outputs": [],
   "source": [
    "def average_delay_for_node(node_of_interest,log_file):\n",
    "    publications = {}\n",
    "    latencies = []\n",
    "    max_time = 0\n",
    "    with open(log_file, 'r') as f:\n",
    "        for line in f:\n",
    "            if line.startswith('SYNC_'):\n",
    "                val = int(line.split('=')[1])\n",
    "                if line.startswith('SYNC_PACK'):\n",
    "                    sync_pack = val\n",
    "                if line.startswith('SYNC_BYTE'):\n",
    "                    sync_byte = val\n",
    "                continue\n",
    "            line = [x.strip() for x in line.split(',')]\n",
    "\n",
    "            time = float(line[0])\n",
    "            node = line[1]\n",
    "            mtype = line[2]\n",
    "            mid = line[3]\n",
    "            if mtype == 'PUB':\n",
    "                publications[mid] = time\n",
    "            if node != node_of_interest:\n",
    "                continue\n",
    "            if mtype == 'RECV':\n",
    "                latencies.append(time - publications[mid])\n",
    "\n",
    "            max_time = max(max_time, time)\n",
    "        print(f\"Average delay (ms) for node {node_of_interest}: {sum(latencies)/len(latencies)}\")"
   ]
  },
  {
   "cell_type": "code",
   "execution_count": 82,
   "id": "7e298925",
   "metadata": {},
   "outputs": [
    {
     "name": "stdout",
     "output_type": "stream",
     "text": [
      "Processing exp_log_files_josh\\FULL_Method-4_Row-4_Col-1000_MS_INTER_SLOW-100_MS_INTER_FAST-0_Nodes_Pub_Fast-0_RECENT_PUB-99999_RANDOM_PUB-10_S_STOP-0_DROP_RATE-4_MTU.log\n",
      "Average delay (ms) for node /participant1: 361.7625242718445\n",
      "Average delay (ms) for node /participant2: 28.88979797979807\n",
      "Average delay (ms) for node /participant3: 20.95018181818184\n",
      "Average delay (ms) for node /participant4: 20.521148514851504\n",
      "Average delay (ms) for node /participant5: 28.865202020201902\n",
      "Average delay (ms) for node /participant6: 28.865202020201902\n"
     ]
    }
   ],
   "source": [
    "log_file = logfiles[0]\n",
    "print(\"Processing\", log_file)\n",
    "for i in range(0,6):\n",
    "    node_name = f\"/participant{i+1}\"\n",
    "    average_delay_for_node(node_name, log_file)\n",
    "#note: we delay start of node1 publishing by 3 seconds in simulation"
   ]
  },
  {
   "cell_type": "code",
   "execution_count": 16,
   "id": "26d81968",
   "metadata": {},
   "outputs": [],
   "source": [
    "nodeNames = ['Src1', 'Src2', 'Rtr1', 'Rtr2', 'Dst1', 'Dst2']"
   ]
  },
  {
   "cell_type": "code",
   "execution_count": 20,
   "id": "5aff5b0f",
   "metadata": {},
   "outputs": [
    {
     "name": "stdout",
     "output_type": "stream",
     "text": [
      "Processing exp_log_files_josh\\FULL_Method-6node-1000_MS_INTER_SLOW-100_MS_INTER_FAST-0_Nodes_Pub_Fast-0_RECENT_PUB-99999_RANDOM_PUB-10_S_STOP-0_DROP_RATE-4_MTU.log\n",
      "/Src1\n",
      "Average delay (ms) for node /Src1: 329.0246078431372\n",
      "/Src2\n",
      "Average delay (ms) for node /Src2: 28.75302020202011\n",
      "/Rtr1\n",
      "Average delay (ms) for node /Rtr1: 20.622989999999785\n",
      "/Rtr2\n",
      "Average delay (ms) for node /Rtr2: 20.433888888888735\n",
      "/Dst1\n",
      "Average delay (ms) for node /Dst1: 28.30321000000005\n",
      "/Dst2\n",
      "Average delay (ms) for node /Dst2: 28.304450000000053\n"
     ]
    }
   ],
   "source": [
    "log_file = logfiles[0]\n",
    "print(\"Processing\", log_file)\n",
    "for i in range(0,6):\n",
    "    # node_name = f\"/participant{i+1}\"\n",
    "    node_name = f'/{nodeNames[i]}'\n",
    "    print(node_name)\n",
    "    average_delay_for_node(node_name, log_file)\n",
    "#note: we delay start of node1 publishing by 3 seconds in simulation"
   ]
  },
  {
   "cell_type": "code",
   "execution_count": 22,
   "id": "cd152e59",
   "metadata": {},
   "outputs": [
    {
     "name": "stdout",
     "output_type": "stream",
     "text": [
      "Processing latencies for Log:0\n",
      "Average delay (ms) for node /Src1: 329.0246078431372\n",
      "Average delay (ms) for node /Src2: 28.75302020202011\n",
      "Average delay (ms) for node /Rtr1: 20.622989999999785\n",
      "Average delay (ms) for node /Rtr2: 20.433888888888735\n",
      "Average delay (ms) for node /Dst1: 28.30321000000005\n",
      "Average delay (ms) for node /Dst2: 28.304450000000053\n",
      "Processing latencies for Log:1\n",
      "Average delay (ms) for node /Src1: 329.0246078431372\n",
      "Average delay (ms) for node /Src2: 28.75302020202011\n",
      "Average delay (ms) for node /Rtr1: 20.622989999999785\n",
      "Average delay (ms) for node /Rtr2: 20.433888888888735\n",
      "Average delay (ms) for node /Dst1: 28.30321000000005\n",
      "Average delay (ms) for node /Dst2: 28.304450000000053\n"
     ]
    }
   ],
   "source": [
    "def validatedPosition():\n",
    "    #Testing 6node original positions vs zero positions\n",
    "    #We validate that x/y Position in topology file has no impact on latency\n",
    "    method = 'FULL'\n",
    "    loss = '0'\n",
    "    top1 = '6nodeV1'\n",
    "    top2 = '6node_zeroPos'\n",
    "    log1 = glob.glob(\"exp_log_files_josh/\" +\n",
    "                            method + \"_Method-\" +\n",
    "                            top1 + '-' +\n",
    "                            \"1000_MS_INTER_SLOW-100_MS_INTER_FAST-\"+\n",
    "                            \"*_Nodes_Pub_Fast-\"+\n",
    "                            \"*_RECENT_PUB-\" +\n",
    "                            \"*_RANDOM_PUB-10_S_STOP-\" +\n",
    "                            loss + \"_DROP_RATE*.log\")\n",
    "    log2 = glob.glob(\"exp_log_files_josh/\" +\n",
    "                            method + \"_Method-\" +\n",
    "                            top2 + '-' +\n",
    "                            \"1000_MS_INTER_SLOW-100_MS_INTER_FAST-\"+\n",
    "                            \"*_Nodes_Pub_Fast-\"+\n",
    "                            \"*_RECENT_PUB-\" +\n",
    "                            \"*_RANDOM_PUB-10_S_STOP-\" +\n",
    "                            loss + \"_DROP_RATE*.log\")\n",
    "    logfiles = [log1, log2]\n",
    "    for i in range(0,2):\n",
    "        logfile = logfiles[i]\n",
    "        print(f'Processing latencies for Log:{i}')\n",
    "        for j in range(0,6):\n",
    "            # node_name = f\"/participant{i+1}\"\n",
    "            node_name = f'/{nodeNames[j]}'\n",
    "            average_delay_for_node(node_name, log_file)\n",
    "        #note: we delay start of node1 publishing by 3 seconds in simulation"
   ]
  },
  {
   "cell_type": "code",
   "execution_count": 23,
   "id": "e2bb4321",
   "metadata": {},
   "outputs": [],
   "source": [
    "def add_plot(result_dictionary, label, marker):\n",
    "    lists = sorted(result_dictionary.items())\n",
    "    x, y = zip(*lists)\n",
    "    plt.plot(x, y, label=label, marker=marker)"
   ]
  },
  {
   "cell_type": "code",
   "execution_count": 39,
   "id": "f4608502",
   "metadata": {},
   "outputs": [],
   "source": [
    "def set_p(latency_dictionary, max_time, sync_pack, sync_byte):\n",
    "    results50 = {}\n",
    "    results90 = {}\n",
    "    results_pack = {}\n",
    "    results_byte = {}\n",
    "    scale = math.sqrt(1) #original author does this\n",
    "    # I'm assuming this is  to normalize values s.t they have a standard deviation of 1\n",
    "    nums50 = []\n",
    "    nums90 = []\n",
    "    for messageID in latency_dictionary:\n",
    "        # print(f'messageID (key for latency dic) is {messageID}')\n",
    "        nums50.append(numpy.percentile(latency_dictionary[messageID], 50))\n",
    "        nums90.append(numpy.percentile(latency_dictionary[messageID], 90))\n",
    "\n",
    "    print(f'Max time: {max_time}')\n",
    "    total_pubs_per_sec = len(latency_dictionary)/(max_time/1000)\n",
    "    print(f'k is {total_pubs_per_sec}')\n",
    "    results50[total_pubs_per_sec] = numpy.average(nums50) / scale\n",
    "    results90[total_pubs_per_sec] = numpy.average(nums90) / scale\n",
    "    results_pack[total_pubs_per_sec] = sync_pack\n",
    "    results_byte[total_pubs_per_sec] = sync_byte\n",
    "\n",
    "\n",
    "    return results50, results90\n",
    "    # return results90, results50, label, results_pack, results_byte, marker"
   ]
  },
  {
   "cell_type": "code",
   "execution_count": 81,
   "id": "ca73da79",
   "metadata": {},
   "outputs": [
    {
     "name": "stdout",
     "output_type": "stream",
     "text": [
      "messageID (key for latency dic) is /participant2::1\n",
      "messageID (key for latency dic) is /participant3::1\n",
      "messageID (key for latency dic) is /participant4::1\n",
      "messageID (key for latency dic) is /participant5::1\n",
      "messageID (key for latency dic) is /participant6::1\n",
      "messageID (key for latency dic) is /participant4::2\n",
      "messageID (key for latency dic) is /participant3::2\n",
      "messageID (key for latency dic) is /participant2::2\n",
      "messageID (key for latency dic) is /participant6::2\n",
      "messageID (key for latency dic) is /participant5::2\n",
      "messageID (key for latency dic) is /participant3::3\n",
      "messageID (key for latency dic) is /participant5::3\n",
      "messageID (key for latency dic) is /participant4::3\n",
      "messageID (key for latency dic) is /participant6::3\n",
      "messageID (key for latency dic) is /participant2::3\n",
      "messageID (key for latency dic) is /participant3::4\n",
      "messageID (key for latency dic) is /participant6::4\n",
      "messageID (key for latency dic) is /participant5::4\n",
      "messageID (key for latency dic) is /participant2::4\n",
      "messageID (key for latency dic) is /participant1::1\n",
      "messageID (key for latency dic) is /participant4::4\n",
      "messageID (key for latency dic) is /participant3::5\n",
      "messageID (key for latency dic) is /participant5::5\n",
      "messageID (key for latency dic) is /participant6::5\n",
      "messageID (key for latency dic) is /participant2::5\n",
      "messageID (key for latency dic) is /participant1::2\n",
      "messageID (key for latency dic) is /participant4::5\n",
      "messageID (key for latency dic) is /participant3::6\n",
      "messageID (key for latency dic) is /participant2::6\n",
      "messageID (key for latency dic) is /participant1::3\n",
      "messageID (key for latency dic) is /participant5::6\n",
      "messageID (key for latency dic) is /participant6::6\n",
      "messageID (key for latency dic) is /participant4::6\n",
      "messageID (key for latency dic) is /participant3::7\n",
      "messageID (key for latency dic) is /participant2::7\n",
      "messageID (key for latency dic) is /participant5::7\n",
      "messageID (key for latency dic) is /participant6::7\n",
      "messageID (key for latency dic) is /participant1::4\n",
      "messageID (key for latency dic) is /participant4::7\n",
      "messageID (key for latency dic) is /participant3::8\n",
      "messageID (key for latency dic) is /participant5::8\n",
      "messageID (key for latency dic) is /participant2::8\n",
      "messageID (key for latency dic) is /participant1::5\n",
      "messageID (key for latency dic) is /participant6::8\n",
      "messageID (key for latency dic) is /participant3::9\n",
      "messageID (key for latency dic) is /participant4::8\n",
      "messageID (key for latency dic) is /participant1::6\n",
      "messageID (key for latency dic) is /participant6::9\n",
      "messageID (key for latency dic) is /participant5::9\n",
      "messageID (key for latency dic) is /participant2::9\n",
      "messageID (key for latency dic) is /participant3::10\n",
      "messageID (key for latency dic) is /participant1::7\n",
      "messageID (key for latency dic) is /participant4::9\n",
      "messageID (key for latency dic) is /participant2::10\n",
      "messageID (key for latency dic) is /participant6::10\n",
      "messageID (key for latency dic) is /participant5::10\n",
      "messageID (key for latency dic) is /participant3::11\n",
      "messageID (key for latency dic) is /participant1::8\n",
      "messageID (key for latency dic) is /participant2::11\n",
      "messageID (key for latency dic) is /participant4::10\n",
      "messageID (key for latency dic) is /participant6::11\n",
      "messageID (key for latency dic) is /participant5::11\n",
      "messageID (key for latency dic) is /participant3::12\n",
      "messageID (key for latency dic) is /participant1::9\n",
      "messageID (key for latency dic) is /participant2::12\n",
      "messageID (key for latency dic) is /participant6::12\n",
      "messageID (key for latency dic) is /participant5::12\n",
      "messageID (key for latency dic) is /participant4::11\n",
      "messageID (key for latency dic) is /participant2::13\n",
      "messageID (key for latency dic) is /participant3::13\n",
      "messageID (key for latency dic) is /participant1::10\n",
      "messageID (key for latency dic) is /participant5::13\n",
      "messageID (key for latency dic) is /participant6::13\n",
      "messageID (key for latency dic) is /participant4::12\n",
      "messageID (key for latency dic) is /participant1::11\n",
      "messageID (key for latency dic) is /participant3::14\n",
      "messageID (key for latency dic) is /participant2::14\n",
      "messageID (key for latency dic) is /participant6::14\n",
      "messageID (key for latency dic) is /participant4::13\n",
      "messageID (key for latency dic) is /participant5::14\n",
      "messageID (key for latency dic) is /participant2::15\n",
      "messageID (key for latency dic) is /participant3::15\n",
      "messageID (key for latency dic) is /participant1::12\n",
      "messageID (key for latency dic) is /participant6::15\n",
      "messageID (key for latency dic) is /participant5::15\n",
      "messageID (key for latency dic) is /participant4::14\n",
      "messageID (key for latency dic) is /participant3::16\n",
      "messageID (key for latency dic) is /participant2::16\n",
      "messageID (key for latency dic) is /participant6::16\n",
      "messageID (key for latency dic) is /participant1::13\n",
      "messageID (key for latency dic) is /participant5::16\n",
      "messageID (key for latency dic) is /participant4::15\n",
      "messageID (key for latency dic) is /participant3::17\n",
      "messageID (key for latency dic) is /participant2::17\n",
      "messageID (key for latency dic) is /participant6::17\n",
      "messageID (key for latency dic) is /participant1::14\n",
      "messageID (key for latency dic) is /participant5::17\n",
      "messageID (key for latency dic) is /participant4::16\n",
      "messageID (key for latency dic) is /participant3::18\n",
      "messageID (key for latency dic) is /participant6::18\n",
      "messageID (key for latency dic) is /participant2::18\n",
      "messageID (key for latency dic) is /participant1::15\n",
      "messageID (key for latency dic) is /participant5::18\n",
      "messageID (key for latency dic) is /participant4::17\n",
      "messageID (key for latency dic) is /participant6::19\n",
      "messageID (key for latency dic) is /participant3::19\n",
      "messageID (key for latency dic) is /participant1::16\n",
      "messageID (key for latency dic) is /participant2::19\n",
      "messageID (key for latency dic) is /participant5::19\n",
      "messageID (key for latency dic) is /participant4::18\n",
      "messageID (key for latency dic) is /participant3::20\n",
      "messageID (key for latency dic) is /participant6::20\n",
      "messageID (key for latency dic) is /participant2::20\n",
      "messageID (key for latency dic) is /participant5::20\n",
      "messageID (key for latency dic) is /participant1::17\n",
      "messageID (key for latency dic) is /participant4::19\n",
      "messageID (key for latency dic) is /participant3::21\n",
      "messageID (key for latency dic) is /participant2::21\n",
      "messageID (key for latency dic) is /participant6::21\n",
      "messageID (key for latency dic) is /participant5::21\n",
      "Max time: 19969.2\n",
      "k is 6.009254251547382\n"
     ]
    },
    {
     "name": "stderr",
     "output_type": "stream",
     "text": [
      "C:\\Users\\joshc\\AppData\\Local\\Temp\\ipykernel_21524\\1563794196.py:7: UserWarning: Matplotlib is currently using module://matplotlib_inline.backend_inline, which is a non-GUI backend, so cannot show the figure.\n",
      "  fig.show()\n"
     ]
    },
    {
     "data": {
      "image/png": "[encoded data removed]",
      "text/plain": [
       "<Figure size 432x288 with 1 Axes>"
      ]
     },
     "metadata": {
      "needs_background": "light"
     },
     "output_type": "display_data"
    }
   ],
   "source": [
    "fig = matplotlib.pyplot.gcf()\n",
    "results50 = set_p(*testOut)\n",
    "add_plot(results50, label='foobar', marker='o')\n",
    "plt.xlabel(\"Total publications per second\")\n",
    "plt.ylabel(\"Latency\")\n",
    "fig.set_size_inches(6, 2.5)\n",
    "plt.grid()\n",
    "plt.legend()\n",
    "fig.show()"
   ]
  },
  {
   "cell_type": "code",
   "execution_count": 51,
   "id": "1535272a",
   "metadata": {},
   "outputs": [],
   "source": [
    "import os\n",
    "#sort glob files based on rate speed\n",
    "def get_key(fp):\n",
    "    filename = os.path.splitext(os.path.basename(fp))[0]\n",
    "    partofInterest = filename.split('-')[2]\n",
    "    intpart = partofInterest.split('_')[0]\n",
    "    return int(intpart)"
   ]
  },
  {
   "cell_type": "code",
   "execution_count": 56,
   "id": "5bb68436",
   "metadata": {},
   "outputs": [
    {
     "name": "stdout",
     "output_type": "stream",
     "text": [
      "Processing exp_log_files_josh\\FULL_Method-6node-700_MS_INTER_SLOW-100_MS_INTER_FAST-0_Nodes_Pub_Fast-0_RECENT_PUB-99999_RANDOM_PUB-10_S_STOP-0_DROP_RATE-4_MTU.log\n",
      "Max time: 19902.8\n",
      "k is 8.541511747090862\n",
      "Processing exp_log_files_josh\\FULL_Method-6node-850_MS_INTER_SLOW-100_MS_INTER_FAST-0_Nodes_Pub_Fast-0_RECENT_PUB-99999_RANDOM_PUB-10_S_STOP-0_DROP_RATE-4_MTU.log\n",
      "Max time: 19974.8\n",
      "k is 7.108957286180588\n",
      "Processing exp_log_files_josh\\FULL_Method-6node-1000_MS_INTER_SLOW-100_MS_INTER_FAST-0_Nodes_Pub_Fast-0_RECENT_PUB-99999_RANDOM_PUB-10_S_STOP-0_DROP_RATE-4_MTU.log\n",
      "Max time: 19773.9\n",
      "k is 6.068605586151442\n",
      "Processing exp_log_files_josh\\FULL_Method-6node-1150_MS_INTER_SLOW-100_MS_INTER_FAST-0_Nodes_Pub_Fast-0_RECENT_PUB-99999_RANDOM_PUB-10_S_STOP-0_DROP_RATE-4_MTU.log\n",
      "Max time: 19789.8\n",
      "k is 5.356294656843424\n",
      "Processing exp_log_files_josh\\FULL_Method-6node-1300_MS_INTER_SLOW-100_MS_INTER_FAST-0_Nodes_Pub_Fast-0_RECENT_PUB-99999_RANDOM_PUB-10_S_STOP-0_DROP_RATE-4_MTU.log\n",
      "Max time: 19874.4\n",
      "k is 4.780018516282253\n"
     ]
    },
    {
     "name": "stderr",
     "output_type": "stream",
     "text": [
      "C:\\Users\\joshc\\AppData\\Local\\Temp\\ipykernel_19860\\2079888340.py:22: UserWarning: Matplotlib is currently using module://matplotlib_inline.backend_inline, which is a non-GUI backend, so cannot show the figure.\n",
      "  fig.show()\n"
     ]
    },
    {
     "data": {
      "image/png": "[encoded data removed]",
      "text/plain": [
       "<Figure size 432x180 with 1 Axes>"
      ]
     },
     "metadata": {
      "needs_background": "light"
     },
     "output_type": "display_data"
    }
   ],
   "source": [
    "\n",
    "#assuming same topology\n",
    "topology='6node'\n",
    "method = 'FULL'\n",
    "slowRates = ['700', '850', '1000', '1150', '1300']\n",
    "logs =  glob.glob(\"exp_log_files_josh/\" + method + \"_Method-\" + topology + '-*')\n",
    "logs = sorted(logs, key=get_key)\n",
    "nodeNames = ['Src1', 'Src2', 'Rtr1', 'Rtr2', 'Dst1', 'Dst2']\n",
    "results = []\n",
    "for log in logs:\n",
    "    processedLog = process_log(log)\n",
    "    results50,results90 = set_p(*processedLog)\n",
    "    results.append(results50)\n",
    "fig = matplotlib.pyplot.gcf()\n",
    "for i in range(0, len(results)):\n",
    "    # print(results)\n",
    "    add_plot(results[i], label=f'{method}-{slowRates[i]} MS', marker='o')\n",
    "plt.xlabel(\"Total publications per second\")\n",
    "plt.ylabel(\"Latency\")\n",
    "fig.set_size_inches(6, 2.5)\n",
    "plt.grid()\n",
    "plt.legend()\n",
    "fig.show()"
   ]
  },
  {
   "cell_type": "code",
   "execution_count": 58,
   "id": "7795de37",
   "metadata": {},
   "outputs": [
    {
     "name": "stdout",
     "output_type": "stream",
     "text": [
      "Processing exp_log_files_josh\\FULL_Method-butterfly-1000_MS_INTER_SLOW-100_MS_INTER_FAST-0_Nodes_Pub_Fast-0_RECENT_PUB-99999_RANDOM_PUB-10_S_STOP-0_DROP_RATE-4_MTU.log\n",
      "Max time: 19993.0\n",
      "k is 25.408893112589407\n"
     ]
    },
    {
     "name": "stderr",
     "output_type": "stream",
     "text": [
      "C:\\Users\\joshc\\AppData\\Local\\Temp\\ipykernel_19860\\3228350051.py:22: UserWarning: Matplotlib is currently using module://matplotlib_inline.backend_inline, which is a non-GUI backend, so cannot show the figure.\n",
      "  fig.show()\n"
     ]
    },
    {
     "data": {
      "image/png": "[encoded data removed]",
      "text/plain": [
       "<Figure size 432x180 with 1 Axes>"
      ]
     },
     "metadata": {
      "needs_background": "light"
     },
     "output_type": "display_data"
    }
   ],
   "source": [
    "\n",
    "#assuming same topology\n",
    "topology='butterfly'\n",
    "method = 'FULL'\n",
    "slowRates = ['1000']\n",
    "logs =  glob.glob(\"exp_log_files_josh/\" + method + \"_Method-\" + topology + '-*')\n",
    "logs = sorted(logs, key=get_key)\n",
    "# nodeNames = ['Src1', 'Src2', 'Rtr1', 'Rtr2', 'Dst1', 'Dst2']\n",
    "results = []\n",
    "for log in logs:\n",
    "    processedLog = process_log(log)\n",
    "    results50,results90 = set_p(*processedLog)\n",
    "    results.append(results50)\n",
    "fig = matplotlib.pyplot.gcf()\n",
    "for i in range(0, len(results)):\n",
    "    # print(results)\n",
    "    add_plot(results[i], label=f'{method}-{slowRates[i]} MS', marker='o')\n",
    "plt.xlabel(\"Total publications per second\")\n",
    "plt.ylabel(\"Latency\")\n",
    "fig.set_size_inches(6, 2.5)\n",
    "plt.grid()\n",
    "plt.legend()\n",
    "fig.show()"
   ]
  },
  {
   "attachments": {},
   "cell_type": "markdown",
   "id": "89e75ca7",
   "metadata": {},
   "source": [
    "for the butterfly topology\n",
    "we know that hopcounts are:\n",
    "### d1-d2 && d3-d4:5, \n",
    "### d1-d3:6, \n",
    "### d1-d4 && d2-d3:7\n",
    "### d2-d4:8"
   ]
  },
  {
   "cell_type": "code",
   "execution_count": 69,
   "id": "43bc28de",
   "metadata": {},
   "outputs": [],
   "source": [
    "def average_p2p_delay_for_node(src,dest,log_file):\n",
    "    publications = {}\n",
    "    latencies = []\n",
    "    max_time = 0\n",
    "    with open(log_file, 'r') as f:\n",
    "        for line in f:\n",
    "            if line.startswith('SYNC_'):\n",
    "                val = int(line.split('=')[1])\n",
    "                if line.startswith('SYNC_PACK'):\n",
    "                    sync_pack = val\n",
    "                if line.startswith('SYNC_BYTE'):\n",
    "                    sync_byte = val\n",
    "                continue\n",
    "            line = [x.strip() for x in line.split(',')]\n",
    "\n",
    "            time = float(line[0])\n",
    "            node = line[1] \n",
    "            mtype = line[2]\n",
    "            mid = line[3]\n",
    "            if mtype == 'PUB' and node == src: \n",
    "                publications[mid] = time\n",
    "                \n",
    "            if mtype == 'RECV' and node == dest:\n",
    "                #if msg id of sender matches src, \n",
    "                if mid[0:3] == src:\n",
    "                    latencies.append(time - publications[mid])\n",
    "\n",
    "            max_time = max(max_time, time)\n",
    "        print(f\"Average delay (ms) for node {src}-{dest}: {sum(latencies)/len(latencies)}\")\n",
    "        return latencies"
   ]
  },
  {
   "cell_type": "code",
   "execution_count": 68,
   "id": "be79dd6b",
   "metadata": {},
   "outputs": [
    {
     "name": "stdout",
     "output_type": "stream",
     "text": [
      "/a6\n"
     ]
    }
   ],
   "source": [
    "mid = '/a6::1'\n",
    "print(mid[0:3])"
   ]
  },
  {
   "cell_type": "code",
   "execution_count": 74,
   "id": "df2498ed",
   "metadata": {},
   "outputs": [
    {
     "name": "stdout",
     "output_type": "stream",
     "text": [
      "Processing exp_log_files_josh\\FULL_Method-butterfly-1000_MS_INTER_SLOW-100_MS_INTER_FAST-0_Nodes_Pub_Fast-0_RECENT_PUB-99999_RANDOM_PUB-10_S_STOP-0_DROP_RATE-4_MTU.log\n",
      "Average delay (ms) for node /d1-/d2: 56.35050000000014\n",
      "[150.28, 51.40000000000009, 51.40000000000009, 51.40000000000009, 51.399999999999636, 51.409999999999854, 51.399999999999636, 51.409999999999854, 51.399999999999636, 51.409999999999854, 51.5, 51.399999999999636, 51.399999999999636, 51.399999999999636, 51.399999999999636, 51.399999999999636, 51.400000000001455, 51.400000000001455, 51.400000000001455, 51.400000000001455]\n",
      "Average delay (ms) for node /d1-/d4: 76.46400000000006\n",
      "[170.36, 71.53999999999996, 71.5300000000002, 71.5300000000002, 71.52999999999975, 71.53999999999996, 71.52999999999975, 71.53999999999996, 71.53999999999996, 71.54000000000087, 71.60000000000036, 71.5, 71.5, 71.5, 71.5, 71.5, 71.5, 71.5, 71.5, 71.5]\n",
      "Average delay (ms) for node /d4-/d1: 76.43399999999988\n",
      "[170.36, 71.48000000000002, 71.48000000000002, 71.48000000000002, 71.47999999999956, 71.47999999999956, 71.47999999999956, 71.47999999999956, 71.47999999999956, 71.47999999999956, 71.5, 71.5, 71.5, 71.5, 71.5, 71.5, 71.5, 71.5, 71.5, 71.5]\n"
     ]
    }
   ],
   "source": [
    "#how can we observe the effects of our topology on scalability?\n",
    "#d1 to d2 latency:\n",
    "\n",
    "topology='butterfly'\n",
    "method = 'FULL'\n",
    "slowRates = ['1000']\n",
    "logs =  glob.glob(\"exp_log_files_josh/\" + method + \"_Method-\" + topology + '-*')\n",
    "logs = sorted(logs, key=get_key)\n",
    "log_file = logs[0]\n",
    "print(\"Processing\", log_file)\n",
    "\n",
    "latencies = average_p2p_delay_for_node('/d1', '/d2', log_file)\n",
    "#note: we delay start of node1 publishing by 3 seconds in simulation\n",
    "print(latencies)\n",
    "\n",
    "d1_d4_latencies = average_p2p_delay_for_node('/d1', '/d4', log_file)\n",
    "print(d1_d4_latencies)\n",
    "\n",
    "d4_d1_latencies = average_p2p_delay_for_node('/d4', '/d1', log_file)\n",
    "print(d4_d1_latencies)"
   ]
  }
 ],
 "metadata": {
  "kernelspec": {
   "display_name": "Python 3",
   "language": "python",
   "name": "python3"
  },
  "language_info": {
   "codemirror_mode": {
    "name": "ipython",
    "version": 3
   },
   "file_extension": ".py",
   "mimetype": "text/x-python",
   "name": "python",
   "nbconvert_exporter": "python",
   "pygments_lexer": "ipython3",
   "version": "3.10.1"
  }
 },
 "nbformat": 4,
 "nbformat_minor": 5
}
