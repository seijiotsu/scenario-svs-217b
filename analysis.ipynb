{
 "cells": [
  {
   "cell_type": "code",
   "execution_count": 1,
   "id": "ff5c928c",
   "metadata": {},
   "outputs": [],
   "source": [
    "import matplotlib\n",
    "import matplotlib.pylab as plt\n",
    "import glob\n",
    "import numpy\n",
    "import math\n",
    "from joblib import Parallel, delayed\n",
    "\n",
    "# Configuration\n",
    "RUN_ID = \"1\"\n",
    "RUNNING_TIME = 20"
   ]
  },
  {
   "cell_type": "code",
   "execution_count": 2,
   "id": "4089dd11",
   "metadata": {},
   "outputs": [],
   "source": [
    "def res_dir(rid):\n",
    "    return \"results/\" + rid"
   ]
  },
  {
   "cell_type": "code",
   "execution_count": 8,
   "id": "9d941ca9",
   "metadata": {},
   "outputs": [],
   "source": [
    "def process_log(filename):\n",
    "    print(\"Processing\", filename)\n",
    "\n",
    "    publications = {}\n",
    "    latencies = {}\n",
    "    max_time = 0\n",
    "    sync_pack = 0\n",
    "    sync_byte = 0\n",
    "    \n",
    "    with open(filename, 'r') as f:\n",
    "        for line in f:\n",
    "            if line.startswith('SYNC_'):\n",
    "                val = int(line.split('=')[1])\n",
    "                if line.startswith('SYNC_PACK'):\n",
    "                    sync_pack = val\n",
    "                if line.startswith('SYNC_BYTE'):\n",
    "                    sync_byte = val\n",
    "                    \n",
    "                continue\n",
    "            \n",
    "            line = [x.strip() for x in line.split(',')]\n",
    "            \n",
    "            time = float(line[0])\n",
    "            node = line[1]\n",
    "            mtype = line[2]\n",
    "            mid = line[3]\n",
    "            \n",
    "            if mtype == 'PUB':\n",
    "                publications[mid] = time\n",
    "            \n",
    "            if mtype == 'RECV':\n",
    "                if mid not in latencies:\n",
    "                    latencies[mid] = []\n",
    "                latencies[mid].append(time - publications[mid])\n",
    "                \n",
    "            max_time = max(max_time, time)\n",
    "    \n",
    "    return latencies, max_time, sync_pack, sync_byte"
   ]
  },
  {
   "cell_type": "code",
   "execution_count": 12,
   "id": "9de9dc36",
   "metadata": {},
   "outputs": [
    {
     "data": {
      "image/png": "[encoded data removed]",
      "text/plain": [
       "<Figure size 432x288 with 1 Axes>"
      ]
     },
     "metadata": {
      "needs_background": "light"
     },
     "output_type": "display_data"
    }
   ],
   "source": [
    "def add_plot(r, label):\n",
    "    lists = sorted(r.items())\n",
    "    x, y = zip(*lists)\n",
    "    plt.plot(x, y, label=label)\n",
    "\n",
    "jobs = []\n",
    "    \n",
    "def run_job(rid, label, scale):\n",
    "    logfiles = glob.glob(res_dir(rid) + \"/*.log\")\n",
    "    percentile = 90\n",
    "\n",
    "    results50 = {}\n",
    "    results90 = {}\n",
    "    results_pack = {}\n",
    "    results_byte = {}\n",
    "\n",
    "    def set_p(res, max_time, sync_pack, sync_byte):\n",
    "        nums50 = []\n",
    "        nums90 = []\n",
    "        for r in res:\n",
    "            nums50.append(numpy.percentile(res[r], 50))\n",
    "            nums90.append(numpy.percentile(res[r], 90))\n",
    "\n",
    "        k = len(res)/(max_time/1000)\n",
    "        results50[k] = numpy.average(nums50) / scale\n",
    "        results90[k] = numpy.average(nums90) / scale\n",
    "        results_pack[k] = sync_pack\n",
    "        results_byte[k] = sync_byte\n",
    "\n",
    "    for lf in logfiles:\n",
    "        set_p(*process_log(lf))\n",
    "\n",
    "    return results90, results50, label, results_pack, results_byte\n",
    "    \n",
    "def add_run(rid, label, scale):\n",
    "    jobs.append(delayed(run_job)(rid, label, scale))\n",
    "\n",
    "def run_jobs():\n",
    "    res = Parallel(n_jobs=-1)(jobs)\n",
    "    for r in res:\n",
    "        add_plot(r[0], r[2])\n",
    "    \n",
    "# add_run(\"4\", \"4 nodes\", math.sqrt(4))\n",
    "add_run(\"8-n\", \"8 nodes\", math.sqrt(8))\n",
    "#add_run(\"16-n\", \"16 nodes\", math.sqrt(16))\n",
    "#add_run(\"32-n\", \"32 nodes\", math.sqrt(32))\n",
    "# add_run(\"64-n\", \"64 nodes\", math.sqrt(64))\n",
    "\n",
    "#add_run(\"8\", \"8 nodes (frag)\", math.sqrt(8))\n",
    "#add_run(\"16\", \"16 nodes (frag)\", math.sqrt(16))\n",
    "#add_run(\"32\", \"32 nodes (frag)\", math.sqrt(32))\n",
    "# add_run(\"64\", \"64 nodes (frag)\", math.sqrt(64))\n",
    "# add_run(\"128\", \"128 nodes\", math.sqrt(128))\n",
    "\n",
    "run_jobs()\n",
    "    \n",
    "plt.xlabel(\"Total publications per second\")\n",
    "plt.ylabel(\"Latency\")\n",
    "plt.legend()\n",
    "plt.show()"
   ]
  }
 ],
 "metadata": {
  "kernelspec": {
   "display_name": "Python 3",
   "language": "python",
   "name": "python3"
  },
  "language_info": {
   "codemirror_mode": {
    "name": "ipython",
    "version": 3
   },
   "file_extension": ".py",
   "mimetype": "text/x-python",
   "name": "python",
   "nbconvert_exporter": "python",
   "pygments_lexer": "ipython3",
   "version": "3.6.9"
  }
 },
 "nbformat": 4,
 "nbformat_minor": 5
}
