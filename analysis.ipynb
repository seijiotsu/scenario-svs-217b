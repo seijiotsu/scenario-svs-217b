{
 "cells": [
  {
   "cell_type": "code",
   "execution_count": 50,
   "id": "b93e7961",
   "metadata": {},
   "outputs": [],
   "source": [
    "import matplotlib\n",
    "import matplotlib.pylab as plt\n",
    "import glob\n",
    "import numpy\n",
    "\n",
    "# Configuration\n",
    "RUN_ID = \"1\"\n",
    "RUNNING_TIME = 20"
   ]
  },
  {
   "cell_type": "code",
   "execution_count": 6,
   "id": "1c83d670",
   "metadata": {},
   "outputs": [],
   "source": [
    "RES_DIR = \"results/\" + RUN_ID"
   ]
  },
  {
   "cell_type": "code",
   "execution_count": 37,
   "id": "3aa75f21",
   "metadata": {},
   "outputs": [],
   "source": [
    "def process_log(filename):\n",
    "    print(\"Processing\", filename)\n",
    "\n",
    "    publications = {}\n",
    "    latencies = {}\n",
    "    \n",
    "    with open(lf, 'r') as f:\n",
    "        for line in f:\n",
    "            line = [x.strip() for x in line.split(',')]\n",
    "            \n",
    "            time = float(line[0])\n",
    "            node = line[1]\n",
    "            mtype = line[2]\n",
    "            mid = line[3]\n",
    "            \n",
    "            if mtype == 'PUB':\n",
    "                publications[mid] = time\n",
    "            \n",
    "            if mtype == 'RECV':\n",
    "                if mid not in latencies:\n",
    "                    latencies[mid] = []\n",
    "                latencies[mid].append(time - publications[mid])\n",
    "    \n",
    "    return latencies"
   ]
  },
  {
   "cell_type": "code",
   "execution_count": 66,
   "id": "573c9244",
   "metadata": {},
   "outputs": [
    {
     "name": "stdout",
     "output_type": "stream",
     "text": [
      "Processing results/1/2000.log\n",
      "Processing results/1/3000.log\n",
      "Processing results/1/500.log\n",
      "Processing results/1/5000.log\n",
      "Processing results/1/1000.log\n"
     ]
    },
    {
     "data": {
      "image/png": "[encoded data removed]",
      "text/plain": [
       "<Figure size 432x288 with 1 Axes>"
      ]
     },
     "metadata": {
      "needs_background": "light"
     },
     "output_type": "display_data"
    }
   ],
   "source": [
    "logfiles = glob.glob(RES_DIR + \"/*.log\")\n",
    "percentile = 90\n",
    "\n",
    "results50 = {}\n",
    "results90 = {}\n",
    "\n",
    "def set_p(res):\n",
    "    nums50 = []\n",
    "    nums90 = []\n",
    "    for r in res:\n",
    "        nums50.append(numpy.percentile(res[r], 50))\n",
    "        nums90.append(numpy.percentile(res[r], 90))\n",
    "        \n",
    "    k = len(res)/RUNNING_TIME\n",
    "    results50[k] = numpy.average(nums50)\n",
    "    results90[k] = numpy.average(nums90)\n",
    "\n",
    "for lf in logfiles:\n",
    "    res = process_log(lf)\n",
    "    fid = lf.split('/')[-1].split('.')[0]\n",
    "    set_p(res)\n",
    "    \n",
    "# Make plot\n",
    "def add_plot(r, label):\n",
    "    lists = sorted(r.items())\n",
    "    x, y = zip(*lists)\n",
    "    plt.plot(x, y, label=label)\n",
    "\n",
    "add_plot(results50, \"Latency (50%tile)\")\n",
    "add_plot(results90, \"Latency (90%tile)\")\n",
    "plt.xlabel(\"Total publications per second\")\n",
    "plt.ylabel(\"Latency\".format(percentile))\n",
    "plt.legend()\n",
    "plt.show()"
   ]
  }
 ],
 "metadata": {
  "kernelspec": {
   "display_name": "Python 3",
   "language": "python",
   "name": "python3"
  },
  "language_info": {
   "codemirror_mode": {
    "name": "ipython",
    "version": 3
   },
   "file_extension": ".py",
   "mimetype": "text/x-python",
   "name": "python",
   "nbconvert_exporter": "python",
   "pygments_lexer": "ipython3",
   "version": "3.6.9"
  }
 },
 "nbformat": 4,
 "nbformat_minor": 5
}
